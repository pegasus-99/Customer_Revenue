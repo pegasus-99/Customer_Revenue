{
 "cells": [
  {
   "cell_type": "code",
   "execution_count": 1,
   "id": "c93ae5b3",
   "metadata": {},
   "outputs": [],
   "source": [
    "import pandas as pd"
   ]
  },
  {
   "cell_type": "code",
   "execution_count": 2,
   "id": "250dbde6",
   "metadata": {},
   "outputs": [],
   "source": [
    "df = pd.read_csv(\"casestudy.csv\")"
   ]
  },
  {
   "cell_type": "code",
   "execution_count": 3,
   "id": "a8efef61",
   "metadata": {},
   "outputs": [
    {
     "data": {
      "text/html": [
       "<div>\n",
       "<style scoped>\n",
       "    .dataframe tbody tr th:only-of-type {\n",
       "        vertical-align: middle;\n",
       "    }\n",
       "\n",
       "    .dataframe tbody tr th {\n",
       "        vertical-align: top;\n",
       "    }\n",
       "\n",
       "    .dataframe thead th {\n",
       "        text-align: right;\n",
       "    }\n",
       "</style>\n",
       "<table border=\"1\" class=\"dataframe\">\n",
       "  <thead>\n",
       "    <tr style=\"text-align: right;\">\n",
       "      <th></th>\n",
       "      <th>Unnamed: 0</th>\n",
       "      <th>customer_email</th>\n",
       "      <th>net_revenue</th>\n",
       "      <th>year</th>\n",
       "    </tr>\n",
       "  </thead>\n",
       "  <tbody>\n",
       "    <tr>\n",
       "      <th>0</th>\n",
       "      <td>0</td>\n",
       "      <td>nhknapwsbx@gmail.com</td>\n",
       "      <td>249.92</td>\n",
       "      <td>2015</td>\n",
       "    </tr>\n",
       "    <tr>\n",
       "      <th>1</th>\n",
       "      <td>1</td>\n",
       "      <td>joiuzbvcpn@gmail.com</td>\n",
       "      <td>87.61</td>\n",
       "      <td>2015</td>\n",
       "    </tr>\n",
       "    <tr>\n",
       "      <th>2</th>\n",
       "      <td>2</td>\n",
       "      <td>ukkjctepxt@gmail.com</td>\n",
       "      <td>168.38</td>\n",
       "      <td>2015</td>\n",
       "    </tr>\n",
       "    <tr>\n",
       "      <th>3</th>\n",
       "      <td>3</td>\n",
       "      <td>gykatilzrt@gmail.com</td>\n",
       "      <td>62.40</td>\n",
       "      <td>2015</td>\n",
       "    </tr>\n",
       "    <tr>\n",
       "      <th>4</th>\n",
       "      <td>4</td>\n",
       "      <td>mmsgsrtxah@gmail.com</td>\n",
       "      <td>43.08</td>\n",
       "      <td>2015</td>\n",
       "    </tr>\n",
       "    <tr>\n",
       "      <th>5</th>\n",
       "      <td>5</td>\n",
       "      <td>mobvusnzfr@gmail.com</td>\n",
       "      <td>39.44</td>\n",
       "      <td>2015</td>\n",
       "    </tr>\n",
       "    <tr>\n",
       "      <th>6</th>\n",
       "      <td>6</td>\n",
       "      <td>kxwkqvacsv@gmail.com</td>\n",
       "      <td>171.46</td>\n",
       "      <td>2015</td>\n",
       "    </tr>\n",
       "    <tr>\n",
       "      <th>7</th>\n",
       "      <td>7</td>\n",
       "      <td>iqmnugdcjs@gmail.com</td>\n",
       "      <td>111.99</td>\n",
       "      <td>2015</td>\n",
       "    </tr>\n",
       "    <tr>\n",
       "      <th>8</th>\n",
       "      <td>8</td>\n",
       "      <td>baiikostmd@gmail.com</td>\n",
       "      <td>170.70</td>\n",
       "      <td>2015</td>\n",
       "    </tr>\n",
       "    <tr>\n",
       "      <th>9</th>\n",
       "      <td>9</td>\n",
       "      <td>lfeafnigbu@gmail.com</td>\n",
       "      <td>54.99</td>\n",
       "      <td>2015</td>\n",
       "    </tr>\n",
       "  </tbody>\n",
       "</table>\n",
       "</div>"
      ],
      "text/plain": [
       "   Unnamed: 0         customer_email  net_revenue  year\n",
       "0           0   nhknapwsbx@gmail.com       249.92  2015\n",
       "1           1   joiuzbvcpn@gmail.com        87.61  2015\n",
       "2           2   ukkjctepxt@gmail.com       168.38  2015\n",
       "3           3   gykatilzrt@gmail.com        62.40  2015\n",
       "4           4   mmsgsrtxah@gmail.com        43.08  2015\n",
       "5           5   mobvusnzfr@gmail.com        39.44  2015\n",
       "6           6   kxwkqvacsv@gmail.com       171.46  2015\n",
       "7           7   iqmnugdcjs@gmail.com       111.99  2015\n",
       "8           8   baiikostmd@gmail.com       170.70  2015\n",
       "9           9   lfeafnigbu@gmail.com        54.99  2015"
      ]
     },
     "execution_count": 3,
     "metadata": {},
     "output_type": "execute_result"
    }
   ],
   "source": [
    "df.head(10)"
   ]
  },
  {
   "cell_type": "code",
   "execution_count": 4,
   "id": "fb06a444",
   "metadata": {},
   "outputs": [],
   "source": [
    "df.rename(columns = {'Unnamed: 0':'index'}, inplace = True)"
   ]
  },
  {
   "cell_type": "code",
   "execution_count": 5,
   "id": "7b73ab87",
   "metadata": {},
   "outputs": [
    {
     "data": {
      "text/plain": [
       "(685927, 4)"
      ]
     },
     "execution_count": 5,
     "metadata": {},
     "output_type": "execute_result"
    }
   ],
   "source": [
    "df.shape"
   ]
  },
  {
   "cell_type": "code",
   "execution_count": 6,
   "id": "06552202",
   "metadata": {},
   "outputs": [
    {
     "name": "stdout",
     "output_type": "stream",
     "text": [
      "<class 'pandas.core.frame.DataFrame'>\n",
      "RangeIndex: 685927 entries, 0 to 685926\n",
      "Data columns (total 4 columns):\n",
      " #   Column          Non-Null Count   Dtype  \n",
      "---  ------          --------------   -----  \n",
      " 0   index           685927 non-null  int64  \n",
      " 1   customer_email  685927 non-null  object \n",
      " 2   net_revenue     685927 non-null  float64\n",
      " 3   year            685927 non-null  int64  \n",
      "dtypes: float64(1), int64(2), object(1)\n",
      "memory usage: 20.9+ MB\n"
     ]
    }
   ],
   "source": [
    "df.info()"
   ]
  },
  {
   "cell_type": "code",
   "execution_count": 7,
   "id": "8eb5cb16",
   "metadata": {},
   "outputs": [
    {
     "data": {
      "text/html": [
       "<div>\n",
       "<style scoped>\n",
       "    .dataframe tbody tr th:only-of-type {\n",
       "        vertical-align: middle;\n",
       "    }\n",
       "\n",
       "    .dataframe tbody tr th {\n",
       "        vertical-align: top;\n",
       "    }\n",
       "\n",
       "    .dataframe thead th {\n",
       "        text-align: right;\n",
       "    }\n",
       "</style>\n",
       "<table border=\"1\" class=\"dataframe\">\n",
       "  <thead>\n",
       "    <tr style=\"text-align: right;\">\n",
       "      <th></th>\n",
       "      <th>index</th>\n",
       "      <th>net_revenue</th>\n",
       "      <th>year</th>\n",
       "    </tr>\n",
       "  </thead>\n",
       "  <tbody>\n",
       "    <tr>\n",
       "      <th>count</th>\n",
       "      <td>685927.000000</td>\n",
       "      <td>685927.000000</td>\n",
       "      <td>685927.000000</td>\n",
       "    </tr>\n",
       "    <tr>\n",
       "      <th>mean</th>\n",
       "      <td>342963.000000</td>\n",
       "      <td>125.647755</td>\n",
       "      <td>2016.027252</td>\n",
       "    </tr>\n",
       "    <tr>\n",
       "      <th>std</th>\n",
       "      <td>198010.213384</td>\n",
       "      <td>71.854528</td>\n",
       "      <td>0.837203</td>\n",
       "    </tr>\n",
       "    <tr>\n",
       "      <th>min</th>\n",
       "      <td>0.000000</td>\n",
       "      <td>1.000000</td>\n",
       "      <td>2015.000000</td>\n",
       "    </tr>\n",
       "    <tr>\n",
       "      <th>25%</th>\n",
       "      <td>171481.500000</td>\n",
       "      <td>63.510000</td>\n",
       "      <td>2015.000000</td>\n",
       "    </tr>\n",
       "    <tr>\n",
       "      <th>50%</th>\n",
       "      <td>342963.000000</td>\n",
       "      <td>125.730000</td>\n",
       "      <td>2016.000000</td>\n",
       "    </tr>\n",
       "    <tr>\n",
       "      <th>75%</th>\n",
       "      <td>514444.500000</td>\n",
       "      <td>187.820000</td>\n",
       "      <td>2017.000000</td>\n",
       "    </tr>\n",
       "    <tr>\n",
       "      <th>max</th>\n",
       "      <td>685926.000000</td>\n",
       "      <td>250.000000</td>\n",
       "      <td>2017.000000</td>\n",
       "    </tr>\n",
       "  </tbody>\n",
       "</table>\n",
       "</div>"
      ],
      "text/plain": [
       "               index    net_revenue           year\n",
       "count  685927.000000  685927.000000  685927.000000\n",
       "mean   342963.000000     125.647755    2016.027252\n",
       "std    198010.213384      71.854528       0.837203\n",
       "min         0.000000       1.000000    2015.000000\n",
       "25%    171481.500000      63.510000    2015.000000\n",
       "50%    342963.000000     125.730000    2016.000000\n",
       "75%    514444.500000     187.820000    2017.000000\n",
       "max    685926.000000     250.000000    2017.000000"
      ]
     },
     "execution_count": 7,
     "metadata": {},
     "output_type": "execute_result"
    }
   ],
   "source": [
    "df.describe()"
   ]
  },
  {
   "cell_type": "code",
   "execution_count": 8,
   "id": "a471ee3c",
   "metadata": {},
   "outputs": [],
   "source": [
    "no_of_years = df.groupby('year')['year'].count()"
   ]
  },
  {
   "cell_type": "code",
   "execution_count": 9,
   "id": "75d4d6b7",
   "metadata": {},
   "outputs": [
    {
     "name": "stdout",
     "output_type": "stream",
     "text": [
      "year\n",
      "2015    231294\n",
      "2016    204646\n",
      "2017    249987\n",
      "Name: year, dtype: int64\n"
     ]
    }
   ],
   "source": [
    "print(no_of_years)"
   ]
  },
  {
   "cell_type": "code",
   "execution_count": 10,
   "id": "29ff8a32",
   "metadata": {},
   "outputs": [
    {
     "data": {
      "text/plain": [
       "array([2015, 2016, 2017])"
      ]
     },
     "execution_count": 10,
     "metadata": {},
     "output_type": "execute_result"
    }
   ],
   "source": [
    "df.year.unique()"
   ]
  },
  {
   "cell_type": "markdown",
   "id": "99b9b793",
   "metadata": {},
   "source": [
    "#### We take 2017 as our current year"
   ]
  },
  {
   "cell_type": "markdown",
   "id": "be093ae4",
   "metadata": {},
   "source": [
    "### 1. Find total revenue for the current year"
   ]
  },
  {
   "cell_type": "code",
   "execution_count": 11,
   "id": "2a4d47dc",
   "metadata": {},
   "outputs": [],
   "source": [
    "df1 = df[(df.year==2017)]"
   ]
  },
  {
   "cell_type": "code",
   "execution_count": 12,
   "id": "1f662d9b",
   "metadata": {},
   "outputs": [],
   "source": [
    "total_revenue = df1.net_revenue.sum()"
   ]
  },
  {
   "cell_type": "code",
   "execution_count": 13,
   "id": "8e3e63c9",
   "metadata": {},
   "outputs": [
    {
     "name": "stdout",
     "output_type": "stream",
     "text": [
      "31417495.030000016\n"
     ]
    }
   ],
   "source": [
    "print(total_revenue)"
   ]
  },
  {
   "cell_type": "markdown",
   "id": "146c9613",
   "metadata": {},
   "source": [
    "### 2. New customer revenue\n",
    "##### I divide the dataframe by grouping it by year"
   ]
  },
  {
   "cell_type": "code",
   "execution_count": 14,
   "id": "e365b63e",
   "metadata": {},
   "outputs": [],
   "source": [
    "df_2016 = df[(df.year==2016)]\n",
    "df_2017 = df[(df.year==2017)]"
   ]
  },
  {
   "cell_type": "markdown",
   "id": "0f3304f2",
   "metadata": {},
   "source": [
    "##### Creating a dataframe of customers in 2017 but not in 2016"
   ]
  },
  {
   "cell_type": "code",
   "execution_count": 15,
   "id": "d1fff422",
   "metadata": {},
   "outputs": [],
   "source": [
    "df2 = df_2017[~df_2017[\"customer_email\"].isin(df_2016[\"customer_email\"])]"
   ]
  },
  {
   "cell_type": "code",
   "execution_count": 16,
   "id": "07b93b61",
   "metadata": {},
   "outputs": [
    {
     "data": {
      "text/html": [
       "<div>\n",
       "<style scoped>\n",
       "    .dataframe tbody tr th:only-of-type {\n",
       "        vertical-align: middle;\n",
       "    }\n",
       "\n",
       "    .dataframe tbody tr th {\n",
       "        vertical-align: top;\n",
       "    }\n",
       "\n",
       "    .dataframe thead th {\n",
       "        text-align: right;\n",
       "    }\n",
       "</style>\n",
       "<table border=\"1\" class=\"dataframe\">\n",
       "  <thead>\n",
       "    <tr style=\"text-align: right;\">\n",
       "      <th></th>\n",
       "      <th>index</th>\n",
       "      <th>customer_email</th>\n",
       "      <th>net_revenue</th>\n",
       "      <th>year</th>\n",
       "    </tr>\n",
       "  </thead>\n",
       "  <tbody>\n",
       "    <tr>\n",
       "      <th>435940</th>\n",
       "      <td>435940</td>\n",
       "      <td>mwrossuukz@gmail.com</td>\n",
       "      <td>96.61</td>\n",
       "      <td>2017</td>\n",
       "    </tr>\n",
       "    <tr>\n",
       "      <th>435941</th>\n",
       "      <td>435941</td>\n",
       "      <td>qvjfterwnk@gmail.com</td>\n",
       "      <td>176.00</td>\n",
       "      <td>2017</td>\n",
       "    </tr>\n",
       "    <tr>\n",
       "      <th>435942</th>\n",
       "      <td>435942</td>\n",
       "      <td>vlyigtgfzs@gmail.com</td>\n",
       "      <td>73.47</td>\n",
       "      <td>2017</td>\n",
       "    </tr>\n",
       "    <tr>\n",
       "      <th>435943</th>\n",
       "      <td>435943</td>\n",
       "      <td>yfirychuhk@gmail.com</td>\n",
       "      <td>138.17</td>\n",
       "      <td>2017</td>\n",
       "    </tr>\n",
       "    <tr>\n",
       "      <th>435944</th>\n",
       "      <td>435944</td>\n",
       "      <td>fdkiioqtli@gmail.com</td>\n",
       "      <td>156.87</td>\n",
       "      <td>2017</td>\n",
       "    </tr>\n",
       "    <tr>\n",
       "      <th>...</th>\n",
       "      <td>...</td>\n",
       "      <td>...</td>\n",
       "      <td>...</td>\n",
       "      <td>...</td>\n",
       "    </tr>\n",
       "    <tr>\n",
       "      <th>685922</th>\n",
       "      <td>685922</td>\n",
       "      <td>qzqttwiftu@gmail.com</td>\n",
       "      <td>184.58</td>\n",
       "      <td>2017</td>\n",
       "    </tr>\n",
       "    <tr>\n",
       "      <th>685923</th>\n",
       "      <td>685923</td>\n",
       "      <td>pjodiifjop@gmail.com</td>\n",
       "      <td>133.03</td>\n",
       "      <td>2017</td>\n",
       "    </tr>\n",
       "    <tr>\n",
       "      <th>685924</th>\n",
       "      <td>685924</td>\n",
       "      <td>appaplmgko@gmail.com</td>\n",
       "      <td>200.98</td>\n",
       "      <td>2017</td>\n",
       "    </tr>\n",
       "    <tr>\n",
       "      <th>685925</th>\n",
       "      <td>685925</td>\n",
       "      <td>wvkpmwsgck@gmail.com</td>\n",
       "      <td>235.35</td>\n",
       "      <td>2017</td>\n",
       "    </tr>\n",
       "    <tr>\n",
       "      <th>685926</th>\n",
       "      <td>685926</td>\n",
       "      <td>aregboumbw@gmail.com</td>\n",
       "      <td>208.43</td>\n",
       "      <td>2017</td>\n",
       "    </tr>\n",
       "  </tbody>\n",
       "</table>\n",
       "<p>229028 rows × 4 columns</p>\n",
       "</div>"
      ],
      "text/plain": [
       "         index         customer_email  net_revenue  year\n",
       "435940  435940   mwrossuukz@gmail.com        96.61  2017\n",
       "435941  435941  qvjfterwnk@gmail.com        176.00  2017\n",
       "435942  435942   vlyigtgfzs@gmail.com        73.47  2017\n",
       "435943  435943   yfirychuhk@gmail.com       138.17  2017\n",
       "435944  435944   fdkiioqtli@gmail.com       156.87  2017\n",
       "...        ...                    ...          ...   ...\n",
       "685922  685922   qzqttwiftu@gmail.com       184.58  2017\n",
       "685923  685923   pjodiifjop@gmail.com       133.03  2017\n",
       "685924  685924   appaplmgko@gmail.com       200.98  2017\n",
       "685925  685925   wvkpmwsgck@gmail.com       235.35  2017\n",
       "685926  685926   aregboumbw@gmail.com       208.43  2017\n",
       "\n",
       "[229028 rows x 4 columns]"
      ]
     },
     "execution_count": 16,
     "metadata": {},
     "output_type": "execute_result"
    }
   ],
   "source": [
    "df2"
   ]
  },
  {
   "cell_type": "code",
   "execution_count": 17,
   "id": "56acf509",
   "metadata": {},
   "outputs": [
    {
     "data": {
      "text/plain": [
       "array([2017])"
      ]
     },
     "execution_count": 17,
     "metadata": {},
     "output_type": "execute_result"
    }
   ],
   "source": [
    "df2.year.unique()"
   ]
  },
  {
   "cell_type": "markdown",
   "id": "a5ce2318",
   "metadata": {},
   "source": [
    "##### Getting the total revenue for the current year from new customers only"
   ]
  },
  {
   "cell_type": "code",
   "execution_count": 18,
   "id": "4af2af05",
   "metadata": {},
   "outputs": [
    {
     "name": "stdout",
     "output_type": "stream",
     "text": [
      "28776235.039999995\n"
     ]
    }
   ],
   "source": [
    "new_customer_revenue = df2.net_revenue.sum()\n",
    "print(new_customer_revenue)"
   ]
  },
  {
   "cell_type": "markdown",
   "id": "3995b0c4",
   "metadata": {},
   "source": [
    "##### I test this dataframe by merging the 2016 and 2017 values using inner join"
   ]
  },
  {
   "cell_type": "code",
   "execution_count": 19,
   "id": "a9b22b59",
   "metadata": {},
   "outputs": [],
   "source": [
    "# inner join\n",
    "df_test = pd.merge(df2, df_2016, on='customer_email', how='inner')"
   ]
  },
  {
   "cell_type": "code",
   "execution_count": 20,
   "id": "cf799848",
   "metadata": {},
   "outputs": [
    {
     "data": {
      "text/html": [
       "<div>\n",
       "<style scoped>\n",
       "    .dataframe tbody tr th:only-of-type {\n",
       "        vertical-align: middle;\n",
       "    }\n",
       "\n",
       "    .dataframe tbody tr th {\n",
       "        vertical-align: top;\n",
       "    }\n",
       "\n",
       "    .dataframe thead th {\n",
       "        text-align: right;\n",
       "    }\n",
       "</style>\n",
       "<table border=\"1\" class=\"dataframe\">\n",
       "  <thead>\n",
       "    <tr style=\"text-align: right;\">\n",
       "      <th></th>\n",
       "      <th>index_x</th>\n",
       "      <th>customer_email</th>\n",
       "      <th>net_revenue_x</th>\n",
       "      <th>year_x</th>\n",
       "      <th>index_y</th>\n",
       "      <th>net_revenue_y</th>\n",
       "      <th>year_y</th>\n",
       "    </tr>\n",
       "  </thead>\n",
       "  <tbody>\n",
       "  </tbody>\n",
       "</table>\n",
       "</div>"
      ],
      "text/plain": [
       "Empty DataFrame\n",
       "Columns: [index_x, customer_email, net_revenue_x, year_x, index_y, net_revenue_y, year_y]\n",
       "Index: []"
      ]
     },
     "execution_count": 20,
     "metadata": {},
     "output_type": "execute_result"
    }
   ],
   "source": [
    "df_test"
   ]
  },
  {
   "cell_type": "code",
   "execution_count": 21,
   "id": "e8b895f2",
   "metadata": {},
   "outputs": [
    {
     "name": "stdout",
     "output_type": "stream",
     "text": [
      "<class 'pandas.core.frame.DataFrame'>\n",
      "Int64Index: 229028 entries, 435940 to 685926\n",
      "Data columns (total 4 columns):\n",
      " #   Column          Non-Null Count   Dtype  \n",
      "---  ------          --------------   -----  \n",
      " 0   index           229028 non-null  int64  \n",
      " 1   customer_email  229028 non-null  object \n",
      " 2   net_revenue     229028 non-null  float64\n",
      " 3   year            229028 non-null  int64  \n",
      "dtypes: float64(1), int64(2), object(1)\n",
      "memory usage: 8.7+ MB\n"
     ]
    }
   ],
   "source": [
    "df2.info()"
   ]
  },
  {
   "cell_type": "markdown",
   "id": "8f1dfd3d",
   "metadata": {},
   "source": [
    "#### 3. Existing Customer Growth\n",
    "##### The method for this is to take the inner join to get a set of customers in the year 2016 as well 2017 and then subtracting the total revenue for both the years"
   ]
  },
  {
   "cell_type": "code",
   "execution_count": 22,
   "id": "d6a29b6a",
   "metadata": {},
   "outputs": [],
   "source": [
    "df_existing_customers = pd.merge(df[(df.year==2017)], df[(df.year==2016)], on='customer_email', how='inner')"
   ]
  },
  {
   "cell_type": "code",
   "execution_count": 23,
   "id": "5907756e",
   "metadata": {},
   "outputs": [
    {
     "data": {
      "text/html": [
       "<div>\n",
       "<style scoped>\n",
       "    .dataframe tbody tr th:only-of-type {\n",
       "        vertical-align: middle;\n",
       "    }\n",
       "\n",
       "    .dataframe tbody tr th {\n",
       "        vertical-align: top;\n",
       "    }\n",
       "\n",
       "    .dataframe thead th {\n",
       "        text-align: right;\n",
       "    }\n",
       "</style>\n",
       "<table border=\"1\" class=\"dataframe\">\n",
       "  <thead>\n",
       "    <tr style=\"text-align: right;\">\n",
       "      <th></th>\n",
       "      <th>index_x</th>\n",
       "      <th>customer_email</th>\n",
       "      <th>net_revenue_x</th>\n",
       "      <th>year_x</th>\n",
       "      <th>index_y</th>\n",
       "      <th>net_revenue_y</th>\n",
       "      <th>year_y</th>\n",
       "    </tr>\n",
       "  </thead>\n",
       "  <tbody>\n",
       "    <tr>\n",
       "      <th>0</th>\n",
       "      <td>435947</td>\n",
       "      <td>yixtbjnxce@gmail.com</td>\n",
       "      <td>133.86</td>\n",
       "      <td>2017</td>\n",
       "      <td>231301</td>\n",
       "      <td>201.32</td>\n",
       "      <td>2016</td>\n",
       "    </tr>\n",
       "    <tr>\n",
       "      <th>1</th>\n",
       "      <td>435953</td>\n",
       "      <td>gwqjyelgct@gmail.com</td>\n",
       "      <td>164.10</td>\n",
       "      <td>2017</td>\n",
       "      <td>231307</td>\n",
       "      <td>14.62</td>\n",
       "      <td>2016</td>\n",
       "    </tr>\n",
       "    <tr>\n",
       "      <th>2</th>\n",
       "      <td>435956</td>\n",
       "      <td>hxshgpdxtr@gmail.com</td>\n",
       "      <td>178.10</td>\n",
       "      <td>2017</td>\n",
       "      <td>231310</td>\n",
       "      <td>217.35</td>\n",
       "      <td>2016</td>\n",
       "    </tr>\n",
       "    <tr>\n",
       "      <th>3</th>\n",
       "      <td>435968</td>\n",
       "      <td>gipqsrvngd@gmail.com</td>\n",
       "      <td>172.90</td>\n",
       "      <td>2017</td>\n",
       "      <td>231322</td>\n",
       "      <td>156.06</td>\n",
       "      <td>2016</td>\n",
       "    </tr>\n",
       "    <tr>\n",
       "      <th>4</th>\n",
       "      <td>435977</td>\n",
       "      <td>cdvwonzpwu@gmail.com</td>\n",
       "      <td>102.46</td>\n",
       "      <td>2017</td>\n",
       "      <td>231331</td>\n",
       "      <td>140.43</td>\n",
       "      <td>2016</td>\n",
       "    </tr>\n",
       "  </tbody>\n",
       "</table>\n",
       "</div>"
      ],
      "text/plain": [
       "   index_x        customer_email  net_revenue_x  year_x  index_y  \\\n",
       "0   435947  yixtbjnxce@gmail.com         133.86    2017   231301   \n",
       "1   435953  gwqjyelgct@gmail.com         164.10    2017   231307   \n",
       "2   435956  hxshgpdxtr@gmail.com         178.10    2017   231310   \n",
       "3   435968  gipqsrvngd@gmail.com         172.90    2017   231322   \n",
       "4   435977  cdvwonzpwu@gmail.com         102.46    2017   231331   \n",
       "\n",
       "   net_revenue_y  year_y  \n",
       "0         201.32    2016  \n",
       "1          14.62    2016  \n",
       "2         217.35    2016  \n",
       "3         156.06    2016  \n",
       "4         140.43    2016  "
      ]
     },
     "execution_count": 23,
     "metadata": {},
     "output_type": "execute_result"
    }
   ],
   "source": [
    "df_existing_customers.head()"
   ]
  },
  {
   "cell_type": "code",
   "execution_count": 24,
   "id": "52083297",
   "metadata": {},
   "outputs": [
    {
     "data": {
      "text/plain": [
       "20611.340000000317"
      ]
     },
     "execution_count": 24,
     "metadata": {},
     "output_type": "execute_result"
    }
   ],
   "source": [
    "df_existing_customers.net_revenue_x.sum() - df_existing_customers.net_revenue_y.sum()"
   ]
  },
  {
   "cell_type": "code",
   "execution_count": 25,
   "id": "03d41693",
   "metadata": {},
   "outputs": [
    {
     "name": "stdout",
     "output_type": "stream",
     "text": [
      "5686551.440000016\n"
     ]
    }
   ],
   "source": [
    "#total revenue from the year 2017 minus the total revenue from the year 2016\n",
    "df_revenue_2017 = df[(df.year==2017)].net_revenue.sum()\n",
    "df_revenue_2016 = df[(df.year==2016)].net_revenue.sum()\n",
    "\n",
    "growth = df_revenue_2017 - df_revenue_2016\n",
    "print(growth)"
   ]
  },
  {
   "cell_type": "code",
   "execution_count": null,
   "id": "3eb28c7a",
   "metadata": {},
   "outputs": [],
   "source": []
  },
  {
   "cell_type": "code",
   "execution_count": 67,
   "id": "2554f294",
   "metadata": {},
   "outputs": [
    {
     "name": "stdout",
     "output_type": "stream",
     "text": [
      "-3305805.599999994\n"
     ]
    }
   ],
   "source": [
    "df_revenue_2015 = df[(df.year==2015)].net_revenue.sum()\n",
    "\n",
    "growth_2016 = df_revenue_2016 - df_revenue_2015\n",
    "print(growth_2016)"
   ]
  },
  {
   "cell_type": "markdown",
   "id": "4aee4a7d",
   "metadata": {},
   "source": [
    "#### 4. Revenue Lost from attrition\n",
    "##### df4 contains all values from 2016 and none of the customers from 2017. If we find the total revenue for this dataframe, it tells us how much potential revenue would be lost due to attrition"
   ]
  },
  {
   "cell_type": "code",
   "execution_count": 26,
   "id": "8cd91e5d",
   "metadata": {},
   "outputs": [],
   "source": [
    "df4 = df_2016[~df_2016[\"customer_email\"].isin(df_2017[\"customer_email\"])]"
   ]
  },
  {
   "cell_type": "code",
   "execution_count": 27,
   "id": "e6be64ac",
   "metadata": {},
   "outputs": [
    {
     "data": {
      "text/html": [
       "<div>\n",
       "<style scoped>\n",
       "    .dataframe tbody tr th:only-of-type {\n",
       "        vertical-align: middle;\n",
       "    }\n",
       "\n",
       "    .dataframe tbody tr th {\n",
       "        vertical-align: top;\n",
       "    }\n",
       "\n",
       "    .dataframe thead th {\n",
       "        text-align: right;\n",
       "    }\n",
       "</style>\n",
       "<table border=\"1\" class=\"dataframe\">\n",
       "  <thead>\n",
       "    <tr style=\"text-align: right;\">\n",
       "      <th></th>\n",
       "      <th>index</th>\n",
       "      <th>customer_email</th>\n",
       "      <th>net_revenue</th>\n",
       "      <th>year</th>\n",
       "    </tr>\n",
       "  </thead>\n",
       "  <tbody>\n",
       "    <tr>\n",
       "      <th>231294</th>\n",
       "      <td>231294</td>\n",
       "      <td>mwrossuukz@gmail.com</td>\n",
       "      <td>197.26</td>\n",
       "      <td>2016</td>\n",
       "    </tr>\n",
       "    <tr>\n",
       "      <th>231295</th>\n",
       "      <td>231295</td>\n",
       "      <td>gkwsoupawk@gmail.com</td>\n",
       "      <td>38.28</td>\n",
       "      <td>2016</td>\n",
       "    </tr>\n",
       "    <tr>\n",
       "      <th>231296</th>\n",
       "      <td>231296</td>\n",
       "      <td>vlyigtgfzs@gmail.com</td>\n",
       "      <td>154.57</td>\n",
       "      <td>2016</td>\n",
       "    </tr>\n",
       "    <tr>\n",
       "      <th>231297</th>\n",
       "      <td>231297</td>\n",
       "      <td>yfirychuhk@gmail.com</td>\n",
       "      <td>102.47</td>\n",
       "      <td>2016</td>\n",
       "    </tr>\n",
       "    <tr>\n",
       "      <th>231298</th>\n",
       "      <td>231298</td>\n",
       "      <td>trnzgqinuu@gmail.com</td>\n",
       "      <td>32.03</td>\n",
       "      <td>2016</td>\n",
       "    </tr>\n",
       "  </tbody>\n",
       "</table>\n",
       "</div>"
      ],
      "text/plain": [
       "         index         customer_email  net_revenue  year\n",
       "231294  231294   mwrossuukz@gmail.com       197.26  2016\n",
       "231295  231295   gkwsoupawk@gmail.com        38.28  2016\n",
       "231296  231296   vlyigtgfzs@gmail.com       154.57  2016\n",
       "231297  231297   yfirychuhk@gmail.com       102.47  2016\n",
       "231298  231298   trnzgqinuu@gmail.com        32.03  2016"
      ]
     },
     "execution_count": 27,
     "metadata": {},
     "output_type": "execute_result"
    }
   ],
   "source": [
    "df4.head()"
   ]
  },
  {
   "cell_type": "code",
   "execution_count": 28,
   "id": "dd3158d8",
   "metadata": {},
   "outputs": [],
   "source": [
    "attrition_loss=df4.net_revenue.sum()"
   ]
  },
  {
   "cell_type": "code",
   "execution_count": 29,
   "id": "e1d8b615",
   "metadata": {},
   "outputs": [
    {
     "name": "stdout",
     "output_type": "stream",
     "text": [
      "23110294.939999998\n"
     ]
    }
   ],
   "source": [
    "print(attrition_loss)"
   ]
  },
  {
   "cell_type": "markdown",
   "id": "7080c758",
   "metadata": {},
   "source": [
    "#### 5. Existing Customer Revenue, current year\n"
   ]
  },
  {
   "cell_type": "code",
   "execution_count": 30,
   "id": "3b1431f2",
   "metadata": {},
   "outputs": [
    {
     "data": {
      "text/plain": [
       "31417495.030000016"
      ]
     },
     "execution_count": 30,
     "metadata": {},
     "output_type": "execute_result"
    }
   ],
   "source": [
    "df_2017.net_revenue.sum()"
   ]
  },
  {
   "cell_type": "markdown",
   "id": "9b1f2f42",
   "metadata": {},
   "source": [
    "#### 6. Previous year existing customer revenue"
   ]
  },
  {
   "cell_type": "code",
   "execution_count": 31,
   "id": "809e1c33",
   "metadata": {},
   "outputs": [
    {
     "data": {
      "text/plain": [
       "25730943.59"
      ]
     },
     "execution_count": 31,
     "metadata": {},
     "output_type": "execute_result"
    }
   ],
   "source": [
    "# Assuming this includes all customers from the year 2016, even those who churned in 2017\n",
    "df_2016.net_revenue.sum()\n",
    "\n",
    "#To calculate the revenue of those customers in the year 2016 only\n",
    "#we do \n",
    "# df_inner_join = pd.merge(df_2016,df_2017,on='customer_email',how='inner')\n",
    "#df_inner_join.net_revenue.sum()"
   ]
  },
  {
   "cell_type": "markdown",
   "id": "e4482c09",
   "metadata": {},
   "source": [
    "#### 7. Total Customers current year"
   ]
  },
  {
   "cell_type": "code",
   "execution_count": 32,
   "id": "443ca43f",
   "metadata": {},
   "outputs": [],
   "source": [
    "total_customers_current_year = df_2017.customer_email.count()"
   ]
  },
  {
   "cell_type": "code",
   "execution_count": 33,
   "id": "0be54c77",
   "metadata": {},
   "outputs": [
    {
     "name": "stdout",
     "output_type": "stream",
     "text": [
      "249987\n"
     ]
    }
   ],
   "source": [
    "print(total_customers_current_year)"
   ]
  },
  {
   "cell_type": "markdown",
   "id": "c3414765",
   "metadata": {},
   "source": [
    "#### 8. Total customers previous year"
   ]
  },
  {
   "cell_type": "code",
   "execution_count": 34,
   "id": "2846ce82",
   "metadata": {},
   "outputs": [
    {
     "name": "stdout",
     "output_type": "stream",
     "text": [
      "204646\n"
     ]
    }
   ],
   "source": [
    "prev_year_total = df_2016.customer_email.count()\n",
    "print(prev_year_total)"
   ]
  },
  {
   "cell_type": "markdown",
   "id": "e3ce1b40",
   "metadata": {},
   "source": [
    "#### 9. New customers"
   ]
  },
  {
   "cell_type": "markdown",
   "id": "dddb22be",
   "metadata": {},
   "source": [
    "##### For this, I will take the count of customers in the current year and subtract it by the count of customers in the current as well as previous year"
   ]
  },
  {
   "cell_type": "code",
   "execution_count": 35,
   "id": "6679b1cb",
   "metadata": {},
   "outputs": [
    {
     "name": "stdout",
     "output_type": "stream",
     "text": [
      "229028\n"
     ]
    }
   ],
   "source": [
    "current_customers = df_2017.customer_email.count()\n",
    "df_inner_join = pd.merge(df_2016,df_2017,on='customer_email',how='inner')\n",
    "common_customers = df_inner_join.customer_email.count()\n",
    "new_customers = current_customers - common_customers\n",
    "print(new_customers)"
   ]
  },
  {
   "cell_type": "markdown",
   "id": "36a7ade1",
   "metadata": {},
   "source": [
    "#### 10. Lost Customers"
   ]
  },
  {
   "cell_type": "markdown",
   "id": "4b5c0786",
   "metadata": {},
   "source": [
    "#### Here we get the dataframe of customers in 2016 but not in 2017. As done in part 4 I have the dataframe of customers in 2016 but not in 2017, which means that they were a part of the company in 2016 but decided to leave in 2017"
   ]
  },
  {
   "cell_type": "code",
   "execution_count": 36,
   "id": "be1b5f08",
   "metadata": {},
   "outputs": [
    {
     "name": "stdout",
     "output_type": "stream",
     "text": [
      "183687\n"
     ]
    }
   ],
   "source": [
    "lost_customers = df4.customer_email.count()\n",
    "print(lost_customers)"
   ]
  },
  {
   "cell_type": "markdown",
   "id": "ec10af5d",
   "metadata": {},
   "source": [
    "# Visualizations"
   ]
  },
  {
   "cell_type": "code",
   "execution_count": 37,
   "id": "e03be71b",
   "metadata": {},
   "outputs": [],
   "source": [
    "import matplotlib.pyplot as plt\n",
    "import seaborn as sns\n",
    "import numpy as np"
   ]
  },
  {
   "cell_type": "code",
   "execution_count": 61,
   "id": "9724880e",
   "metadata": {},
   "outputs": [],
   "source": [
    "df_year_count = df.groupby('year').agg(email_count = ('customer_email', 'count'), sum_revenue = ('net_revenue','sum')).round(2)\n",
    "\n",
    "\n"
   ]
  },
  {
   "cell_type": "code",
   "execution_count": 62,
   "id": "9f1f24d7",
   "metadata": {},
   "outputs": [
    {
     "data": {
      "text/html": [
       "<div>\n",
       "<style scoped>\n",
       "    .dataframe tbody tr th:only-of-type {\n",
       "        vertical-align: middle;\n",
       "    }\n",
       "\n",
       "    .dataframe tbody tr th {\n",
       "        vertical-align: top;\n",
       "    }\n",
       "\n",
       "    .dataframe thead th {\n",
       "        text-align: right;\n",
       "    }\n",
       "</style>\n",
       "<table border=\"1\" class=\"dataframe\">\n",
       "  <thead>\n",
       "    <tr style=\"text-align: right;\">\n",
       "      <th></th>\n",
       "      <th>email_count</th>\n",
       "      <th>sum_revenue</th>\n",
       "    </tr>\n",
       "    <tr>\n",
       "      <th>year</th>\n",
       "      <th></th>\n",
       "      <th></th>\n",
       "    </tr>\n",
       "  </thead>\n",
       "  <tbody>\n",
       "    <tr>\n",
       "      <th>2015</th>\n",
       "      <td>231294</td>\n",
       "      <td>29036749.19</td>\n",
       "    </tr>\n",
       "    <tr>\n",
       "      <th>2016</th>\n",
       "      <td>204646</td>\n",
       "      <td>25730943.59</td>\n",
       "    </tr>\n",
       "    <tr>\n",
       "      <th>2017</th>\n",
       "      <td>249987</td>\n",
       "      <td>31417495.03</td>\n",
       "    </tr>\n",
       "  </tbody>\n",
       "</table>\n",
       "</div>"
      ],
      "text/plain": [
       "      email_count  sum_revenue\n",
       "year                          \n",
       "2015       231294  29036749.19\n",
       "2016       204646  25730943.59\n",
       "2017       249987  31417495.03"
      ]
     },
     "execution_count": 62,
     "metadata": {},
     "output_type": "execute_result"
    }
   ],
   "source": [
    "df_year_count"
   ]
  },
  {
   "cell_type": "code",
   "execution_count": 63,
   "id": "ff6503a0",
   "metadata": {},
   "outputs": [],
   "source": [
    "df_year_count['rev_per_email'] = df_year_count['sum_revenue']/df_year_count['email_count']"
   ]
  },
  {
   "cell_type": "code",
   "execution_count": 64,
   "id": "45798596",
   "metadata": {},
   "outputs": [
    {
     "data": {
      "text/html": [
       "<div>\n",
       "<style scoped>\n",
       "    .dataframe tbody tr th:only-of-type {\n",
       "        vertical-align: middle;\n",
       "    }\n",
       "\n",
       "    .dataframe tbody tr th {\n",
       "        vertical-align: top;\n",
       "    }\n",
       "\n",
       "    .dataframe thead th {\n",
       "        text-align: right;\n",
       "    }\n",
       "</style>\n",
       "<table border=\"1\" class=\"dataframe\">\n",
       "  <thead>\n",
       "    <tr style=\"text-align: right;\">\n",
       "      <th></th>\n",
       "      <th>email_count</th>\n",
       "      <th>sum_revenue</th>\n",
       "      <th>rev_per_email</th>\n",
       "    </tr>\n",
       "    <tr>\n",
       "      <th>year</th>\n",
       "      <th></th>\n",
       "      <th></th>\n",
       "      <th></th>\n",
       "    </tr>\n",
       "  </thead>\n",
       "  <tbody>\n",
       "    <tr>\n",
       "      <th>2015</th>\n",
       "      <td>231294</td>\n",
       "      <td>29036749.19</td>\n",
       "      <td>125.540434</td>\n",
       "    </tr>\n",
       "    <tr>\n",
       "      <th>2016</th>\n",
       "      <td>204646</td>\n",
       "      <td>25730943.59</td>\n",
       "      <td>125.733919</td>\n",
       "    </tr>\n",
       "    <tr>\n",
       "      <th>2017</th>\n",
       "      <td>249987</td>\n",
       "      <td>31417495.03</td>\n",
       "      <td>125.676515</td>\n",
       "    </tr>\n",
       "  </tbody>\n",
       "</table>\n",
       "</div>"
      ],
      "text/plain": [
       "      email_count  sum_revenue  rev_per_email\n",
       "year                                         \n",
       "2015       231294  29036749.19     125.540434\n",
       "2016       204646  25730943.59     125.733919\n",
       "2017       249987  31417495.03     125.676515"
      ]
     },
     "execution_count": 64,
     "metadata": {},
     "output_type": "execute_result"
    }
   ],
   "source": [
    "df_year_count"
   ]
  },
  {
   "cell_type": "code",
   "execution_count": 65,
   "id": "2f7e911f",
   "metadata": {},
   "outputs": [
    {
     "data": {
      "image/png": "[encoded data removed]",
      "text/plain": [
       "<Figure size 1080x720 with 1 Axes>"
      ]
     },
     "metadata": {
      "needs_background": "light"
     },
     "output_type": "display_data"
    }
   ],
   "source": [
    "plt.figure(figsize=(15,10))\n",
    "ax=sns.barplot(x=df_year_count.index, y=df_year_count['rev_per_email'])\n",
    "#ax1 = fig.add_subplot(121)\n",
    "plt.show()"
   ]
  },
  {
   "cell_type": "markdown",
   "id": "b861c777",
   "metadata": {},
   "source": [
    "## The above is a plot shows the average revenue per person per year.  \n",
    "### As we can see, the average revnue is almost the same for all 3 years."
   ]
  },
  {
   "cell_type": "code",
   "execution_count": 69,
   "id": "4909d4ed",
   "metadata": {},
   "outputs": [],
   "source": [
    "df_2015 = df[(df.year==2015)]"
   ]
  },
  {
   "cell_type": "code",
   "execution_count": 70,
   "id": "07b4cb89",
   "metadata": {},
   "outputs": [],
   "source": [
    "common_customers_15_16 = pd.merge(df_2015, df_2016, on='customer_email',how='inner')\n",
    "common_customers_16_17 = pd.merge(df_2016, df_2017, on='customer_email',how='inner')"
   ]
  },
  {
   "cell_type": "code",
   "execution_count": 74,
   "id": "2c692877",
   "metadata": {},
   "outputs": [
    {
     "data": {
      "text/html": [
       "<div>\n",
       "<style scoped>\n",
       "    .dataframe tbody tr th:only-of-type {\n",
       "        vertical-align: middle;\n",
       "    }\n",
       "\n",
       "    .dataframe tbody tr th {\n",
       "        vertical-align: top;\n",
       "    }\n",
       "\n",
       "    .dataframe thead th {\n",
       "        text-align: right;\n",
       "    }\n",
       "</style>\n",
       "<table border=\"1\" class=\"dataframe\">\n",
       "  <thead>\n",
       "    <tr style=\"text-align: right;\">\n",
       "      <th></th>\n",
       "      <th>index_x</th>\n",
       "      <th>customer_email</th>\n",
       "      <th>net_revenue_x</th>\n",
       "      <th>year_x</th>\n",
       "      <th>index_y</th>\n",
       "      <th>net_revenue_y</th>\n",
       "      <th>year_y</th>\n",
       "    </tr>\n",
       "  </thead>\n",
       "  <tbody>\n",
       "    <tr>\n",
       "      <th>0</th>\n",
       "      <td>8</td>\n",
       "      <td>baiikostmd@gmail.com</td>\n",
       "      <td>170.70</td>\n",
       "      <td>2015</td>\n",
       "      <td>231302</td>\n",
       "      <td>142.57</td>\n",
       "      <td>2016</td>\n",
       "    </tr>\n",
       "    <tr>\n",
       "      <th>1</th>\n",
       "      <td>9</td>\n",
       "      <td>lfeafnigbu@gmail.com</td>\n",
       "      <td>54.99</td>\n",
       "      <td>2015</td>\n",
       "      <td>231303</td>\n",
       "      <td>35.06</td>\n",
       "      <td>2016</td>\n",
       "    </tr>\n",
       "    <tr>\n",
       "      <th>2</th>\n",
       "      <td>15</td>\n",
       "      <td>tqxsjlgjpi@gmail.com</td>\n",
       "      <td>107.71</td>\n",
       "      <td>2015</td>\n",
       "      <td>231309</td>\n",
       "      <td>33.50</td>\n",
       "      <td>2016</td>\n",
       "    </tr>\n",
       "    <tr>\n",
       "      <th>3</th>\n",
       "      <td>16</td>\n",
       "      <td>hxshgpdxtr@gmail.com</td>\n",
       "      <td>180.59</td>\n",
       "      <td>2015</td>\n",
       "      <td>231310</td>\n",
       "      <td>217.35</td>\n",
       "      <td>2016</td>\n",
       "    </tr>\n",
       "    <tr>\n",
       "      <th>4</th>\n",
       "      <td>24</td>\n",
       "      <td>zvhsssvgor@gmail.com</td>\n",
       "      <td>21.55</td>\n",
       "      <td>2015</td>\n",
       "      <td>231318</td>\n",
       "      <td>43.84</td>\n",
       "      <td>2016</td>\n",
       "    </tr>\n",
       "  </tbody>\n",
       "</table>\n",
       "</div>"
      ],
      "text/plain": [
       "   index_x         customer_email  net_revenue_x  year_x  index_y  \\\n",
       "0        8   baiikostmd@gmail.com         170.70    2015   231302   \n",
       "1        9   lfeafnigbu@gmail.com          54.99    2015   231303   \n",
       "2       15   tqxsjlgjpi@gmail.com         107.71    2015   231309   \n",
       "3       16   hxshgpdxtr@gmail.com         180.59    2015   231310   \n",
       "4       24   zvhsssvgor@gmail.com          21.55    2015   231318   \n",
       "\n",
       "   net_revenue_y  year_y  \n",
       "0         142.57    2016  \n",
       "1          35.06    2016  \n",
       "2          33.50    2016  \n",
       "3         217.35    2016  \n",
       "4          43.84    2016  "
      ]
     },
     "execution_count": 74,
     "metadata": {},
     "output_type": "execute_result"
    }
   ],
   "source": [
    "common_customers_15_16.head()"
   ]
  },
  {
   "cell_type": "code",
   "execution_count": 78,
   "id": "8de80fc8",
   "metadata": {},
   "outputs": [
    {
     "name": "stdout",
     "output_type": "stream",
     "text": [
      "34.1290614930182\n"
     ]
    }
   ],
   "source": [
    "growth_15_16 = common_customers_15_16.net_revenue_y.sum() -  common_customers_15_16.net_revenue_x.sum() \n",
    "\n",
    "growth_15_16_rate = growth_15_16/common_customers_15_16['customer_email'].count()\n",
    "\n",
    "print(growth_15_16_rate*100)"
   ]
  },
  {
   "cell_type": "code",
   "execution_count": 79,
   "id": "a4a26b88",
   "metadata": {},
   "outputs": [
    {
     "name": "stdout",
     "output_type": "stream",
     "text": [
      "98.34123765446977\n"
     ]
    }
   ],
   "source": [
    "growth_16_17 = common_customers_16_17.net_revenue_y.sum() -  common_customers_16_17.net_revenue_x.sum() \n",
    "\n",
    "growth_16_17_rate = growth_16_17/common_customers_16_17['customer_email'].count()\n",
    "\n",
    "print(growth_16_17_rate*100)"
   ]
  },
  {
   "cell_type": "code",
   "execution_count": 85,
   "id": "9feecf42",
   "metadata": {},
   "outputs": [
    {
     "data": {
      "text/html": [
       "<div>\n",
       "<style scoped>\n",
       "    .dataframe tbody tr th:only-of-type {\n",
       "        vertical-align: middle;\n",
       "    }\n",
       "\n",
       "    .dataframe tbody tr th {\n",
       "        vertical-align: top;\n",
       "    }\n",
       "\n",
       "    .dataframe thead th {\n",
       "        text-align: right;\n",
       "    }\n",
       "</style>\n",
       "<table border=\"1\" class=\"dataframe\">\n",
       "  <thead>\n",
       "    <tr style=\"text-align: right;\">\n",
       "      <th></th>\n",
       "      <th>growth_rate</th>\n",
       "    </tr>\n",
       "  </thead>\n",
       "  <tbody>\n",
       "    <tr>\n",
       "      <th>0</th>\n",
       "      <td>34.129061</td>\n",
       "    </tr>\n",
       "    <tr>\n",
       "      <th>1</th>\n",
       "      <td>98.341238</td>\n",
       "    </tr>\n",
       "  </tbody>\n",
       "</table>\n",
       "</div>"
      ],
      "text/plain": [
       "   growth_rate\n",
       "0    34.129061\n",
       "1    98.341238"
      ]
     },
     "execution_count": 85,
     "metadata": {},
     "output_type": "execute_result"
    }
   ],
   "source": [
    "x = pd.DataFrame()\n",
    "x['growth_rate'] = [growth_15_16_rate*100, growth_16_17_rate*100]\n",
    "x.head()"
   ]
  },
  {
   "cell_type": "code",
   "execution_count": 86,
   "id": "4efea566",
   "metadata": {},
   "outputs": [],
   "source": [
    "x['year'] = ['2015-16','2016-17']"
   ]
  },
  {
   "cell_type": "code",
   "execution_count": 88,
   "id": "b29396bb",
   "metadata": {},
   "outputs": [
    {
     "data": {
      "image/png": "[encoded data removed]",
      "text/plain": [
       "<Figure size 720x432 with 1 Axes>"
      ]
     },
     "metadata": {
      "needs_background": "light"
     },
     "output_type": "display_data"
    }
   ],
   "source": [
    "plt.figure(figsize = (10,6))\n",
    "plt.plot(x['year'], x['growth_rate'])\n",
    "plt.title('Growth Rate Y-o-Y Vs Year')\n",
    "plt.xlabel('Year')\n",
    "plt.ylabel('Growth Rate Y-o-Y')\n",
    "plt.show()"
   ]
  },
  {
   "cell_type": "markdown",
   "id": "99846172",
   "metadata": {},
   "source": [
    "## The above plot is the growth rate of income for the years given\n",
    "### The rate  from 2015-16 increases from 34.1% to 98.3% in 2016-17"
   ]
  },
  {
   "cell_type": "code",
   "execution_count": 90,
   "id": "14ca5203",
   "metadata": {},
   "outputs": [],
   "source": [
    "#customer churn rate calculation\n",
    "df_churn_15_16 = df_2015[~df_2015[\"customer_email\"].isin(df_2016[\"customer_email\"])]\n",
    "df_churn_16_17 = df_2016[~df_2016[\"customer_email\"].isin(df_2017[\"customer_email\"])]"
   ]
  },
  {
   "cell_type": "code",
   "execution_count": 91,
   "id": "d1b0c052",
   "metadata": {},
   "outputs": [
    {
     "data": {
      "text/html": [
       "<div>\n",
       "<style scoped>\n",
       "    .dataframe tbody tr th:only-of-type {\n",
       "        vertical-align: middle;\n",
       "    }\n",
       "\n",
       "    .dataframe tbody tr th {\n",
       "        vertical-align: top;\n",
       "    }\n",
       "\n",
       "    .dataframe thead th {\n",
       "        text-align: right;\n",
       "    }\n",
       "</style>\n",
       "<table border=\"1\" class=\"dataframe\">\n",
       "  <thead>\n",
       "    <tr style=\"text-align: right;\">\n",
       "      <th></th>\n",
       "      <th>index</th>\n",
       "      <th>customer_email</th>\n",
       "      <th>net_revenue</th>\n",
       "      <th>year</th>\n",
       "    </tr>\n",
       "  </thead>\n",
       "  <tbody>\n",
       "    <tr>\n",
       "      <th>0</th>\n",
       "      <td>0</td>\n",
       "      <td>nhknapwsbx@gmail.com</td>\n",
       "      <td>249.92</td>\n",
       "      <td>2015</td>\n",
       "    </tr>\n",
       "    <tr>\n",
       "      <th>1</th>\n",
       "      <td>1</td>\n",
       "      <td>joiuzbvcpn@gmail.com</td>\n",
       "      <td>87.61</td>\n",
       "      <td>2015</td>\n",
       "    </tr>\n",
       "    <tr>\n",
       "      <th>2</th>\n",
       "      <td>2</td>\n",
       "      <td>ukkjctepxt@gmail.com</td>\n",
       "      <td>168.38</td>\n",
       "      <td>2015</td>\n",
       "    </tr>\n",
       "    <tr>\n",
       "      <th>3</th>\n",
       "      <td>3</td>\n",
       "      <td>gykatilzrt@gmail.com</td>\n",
       "      <td>62.40</td>\n",
       "      <td>2015</td>\n",
       "    </tr>\n",
       "    <tr>\n",
       "      <th>4</th>\n",
       "      <td>4</td>\n",
       "      <td>mmsgsrtxah@gmail.com</td>\n",
       "      <td>43.08</td>\n",
       "      <td>2015</td>\n",
       "    </tr>\n",
       "  </tbody>\n",
       "</table>\n",
       "</div>"
      ],
      "text/plain": [
       "   index         customer_email  net_revenue  year\n",
       "0      0   nhknapwsbx@gmail.com       249.92  2015\n",
       "1      1   joiuzbvcpn@gmail.com        87.61  2015\n",
       "2      2   ukkjctepxt@gmail.com       168.38  2015\n",
       "3      3   gykatilzrt@gmail.com        62.40  2015\n",
       "4      4   mmsgsrtxah@gmail.com        43.08  2015"
      ]
     },
     "execution_count": 91,
     "metadata": {},
     "output_type": "execute_result"
    }
   ],
   "source": [
    "df_churn_15_16.head()"
   ]
  },
  {
   "cell_type": "code",
   "execution_count": 92,
   "id": "7942c944",
   "metadata": {},
   "outputs": [
    {
     "data": {
      "text/html": [
       "<div>\n",
       "<style scoped>\n",
       "    .dataframe tbody tr th:only-of-type {\n",
       "        vertical-align: middle;\n",
       "    }\n",
       "\n",
       "    .dataframe tbody tr th {\n",
       "        vertical-align: top;\n",
       "    }\n",
       "\n",
       "    .dataframe thead th {\n",
       "        text-align: right;\n",
       "    }\n",
       "</style>\n",
       "<table border=\"1\" class=\"dataframe\">\n",
       "  <thead>\n",
       "    <tr style=\"text-align: right;\">\n",
       "      <th></th>\n",
       "      <th>index</th>\n",
       "      <th>customer_email</th>\n",
       "      <th>net_revenue</th>\n",
       "      <th>year</th>\n",
       "    </tr>\n",
       "  </thead>\n",
       "  <tbody>\n",
       "    <tr>\n",
       "      <th>231294</th>\n",
       "      <td>231294</td>\n",
       "      <td>mwrossuukz@gmail.com</td>\n",
       "      <td>197.26</td>\n",
       "      <td>2016</td>\n",
       "    </tr>\n",
       "    <tr>\n",
       "      <th>231295</th>\n",
       "      <td>231295</td>\n",
       "      <td>gkwsoupawk@gmail.com</td>\n",
       "      <td>38.28</td>\n",
       "      <td>2016</td>\n",
       "    </tr>\n",
       "    <tr>\n",
       "      <th>231296</th>\n",
       "      <td>231296</td>\n",
       "      <td>vlyigtgfzs@gmail.com</td>\n",
       "      <td>154.57</td>\n",
       "      <td>2016</td>\n",
       "    </tr>\n",
       "    <tr>\n",
       "      <th>231297</th>\n",
       "      <td>231297</td>\n",
       "      <td>yfirychuhk@gmail.com</td>\n",
       "      <td>102.47</td>\n",
       "      <td>2016</td>\n",
       "    </tr>\n",
       "    <tr>\n",
       "      <th>231298</th>\n",
       "      <td>231298</td>\n",
       "      <td>trnzgqinuu@gmail.com</td>\n",
       "      <td>32.03</td>\n",
       "      <td>2016</td>\n",
       "    </tr>\n",
       "  </tbody>\n",
       "</table>\n",
       "</div>"
      ],
      "text/plain": [
       "         index         customer_email  net_revenue  year\n",
       "231294  231294   mwrossuukz@gmail.com       197.26  2016\n",
       "231295  231295   gkwsoupawk@gmail.com        38.28  2016\n",
       "231296  231296   vlyigtgfzs@gmail.com       154.57  2016\n",
       "231297  231297   yfirychuhk@gmail.com       102.47  2016\n",
       "231298  231298   trnzgqinuu@gmail.com        32.03  2016"
      ]
     },
     "execution_count": 92,
     "metadata": {},
     "output_type": "execute_result"
    }
   ],
   "source": [
    "df_churn_16_17.head()"
   ]
  },
  {
   "cell_type": "code",
   "execution_count": 93,
   "id": "ff8e10f3",
   "metadata": {},
   "outputs": [],
   "source": [
    "df_only_2017 = df_2017[~df_2017[\"customer_email\"].isin(df_2016[\"customer_email\"])]"
   ]
  },
  {
   "cell_type": "code",
   "execution_count": 94,
   "id": "dcb9b769",
   "metadata": {},
   "outputs": [
    {
     "data": {
      "text/html": [
       "<div>\n",
       "<style scoped>\n",
       "    .dataframe tbody tr th:only-of-type {\n",
       "        vertical-align: middle;\n",
       "    }\n",
       "\n",
       "    .dataframe tbody tr th {\n",
       "        vertical-align: top;\n",
       "    }\n",
       "\n",
       "    .dataframe thead th {\n",
       "        text-align: right;\n",
       "    }\n",
       "</style>\n",
       "<table border=\"1\" class=\"dataframe\">\n",
       "  <thead>\n",
       "    <tr style=\"text-align: right;\">\n",
       "      <th></th>\n",
       "      <th>index</th>\n",
       "      <th>customer_email</th>\n",
       "      <th>net_revenue</th>\n",
       "      <th>year</th>\n",
       "    </tr>\n",
       "  </thead>\n",
       "  <tbody>\n",
       "    <tr>\n",
       "      <th>435940</th>\n",
       "      <td>435940</td>\n",
       "      <td>mwrossuukz@gmail.com</td>\n",
       "      <td>96.61</td>\n",
       "      <td>2017</td>\n",
       "    </tr>\n",
       "    <tr>\n",
       "      <th>435941</th>\n",
       "      <td>435941</td>\n",
       "      <td>qvjfterwnk@gmail.com</td>\n",
       "      <td>176.00</td>\n",
       "      <td>2017</td>\n",
       "    </tr>\n",
       "    <tr>\n",
       "      <th>435942</th>\n",
       "      <td>435942</td>\n",
       "      <td>vlyigtgfzs@gmail.com</td>\n",
       "      <td>73.47</td>\n",
       "      <td>2017</td>\n",
       "    </tr>\n",
       "    <tr>\n",
       "      <th>435943</th>\n",
       "      <td>435943</td>\n",
       "      <td>yfirychuhk@gmail.com</td>\n",
       "      <td>138.17</td>\n",
       "      <td>2017</td>\n",
       "    </tr>\n",
       "    <tr>\n",
       "      <th>435944</th>\n",
       "      <td>435944</td>\n",
       "      <td>fdkiioqtli@gmail.com</td>\n",
       "      <td>156.87</td>\n",
       "      <td>2017</td>\n",
       "    </tr>\n",
       "  </tbody>\n",
       "</table>\n",
       "</div>"
      ],
      "text/plain": [
       "         index         customer_email  net_revenue  year\n",
       "435940  435940   mwrossuukz@gmail.com        96.61  2017\n",
       "435941  435941  qvjfterwnk@gmail.com        176.00  2017\n",
       "435942  435942   vlyigtgfzs@gmail.com        73.47  2017\n",
       "435943  435943   yfirychuhk@gmail.com       138.17  2017\n",
       "435944  435944   fdkiioqtli@gmail.com       156.87  2017"
      ]
     },
     "execution_count": 94,
     "metadata": {},
     "output_type": "execute_result"
    }
   ],
   "source": [
    "df_only_2017.head()"
   ]
  },
  {
   "cell_type": "code",
   "execution_count": 95,
   "id": "b00ef3b4",
   "metadata": {},
   "outputs": [
    {
     "name": "stdout",
     "output_type": "stream",
     "text": [
      "112126\n",
      "162728\n"
     ]
    }
   ],
   "source": [
    "no_left_2015 = df_churn_15_16.customer_email.count() - common_customers_15_16.customer_email.count()\n",
    "no_left_2016 = df_churn_16_17.customer_email.count() - common_customers_16_17.customer_email.count()\n",
    "print(no_left_2015)\n",
    "print(no_left_2016)"
   ]
  },
  {
   "cell_type": "code",
   "execution_count": 96,
   "id": "da81bcb1",
   "metadata": {},
   "outputs": [
    {
     "name": "stdout",
     "output_type": "stream",
     "text": [
      "48.47769505477877\n",
      "79.51682417442804\n"
     ]
    }
   ],
   "source": [
    "churn_rate_2016 = (no_left_2015/df_2015.customer_email.count())*100\n",
    "churn_rate_2017 = (no_left_2016/df_2016.customer_email.count())*100\n",
    "\n",
    "print(churn_rate_2016)\n",
    "print(churn_rate_2017)"
   ]
  },
  {
   "cell_type": "code",
   "execution_count": 99,
   "id": "d277893e",
   "metadata": {},
   "outputs": [
    {
     "data": {
      "text/html": [
       "<div>\n",
       "<style scoped>\n",
       "    .dataframe tbody tr th:only-of-type {\n",
       "        vertical-align: middle;\n",
       "    }\n",
       "\n",
       "    .dataframe tbody tr th {\n",
       "        vertical-align: top;\n",
       "    }\n",
       "\n",
       "    .dataframe thead th {\n",
       "        text-align: right;\n",
       "    }\n",
       "</style>\n",
       "<table border=\"1\" class=\"dataframe\">\n",
       "  <thead>\n",
       "    <tr style=\"text-align: right;\">\n",
       "      <th></th>\n",
       "      <th>churn_rate</th>\n",
       "      <th>year</th>\n",
       "    </tr>\n",
       "  </thead>\n",
       "  <tbody>\n",
       "    <tr>\n",
       "      <th>0</th>\n",
       "      <td>48.477695</td>\n",
       "      <td>2015-16</td>\n",
       "    </tr>\n",
       "    <tr>\n",
       "      <th>1</th>\n",
       "      <td>79.516824</td>\n",
       "      <td>2016-17</td>\n",
       "    </tr>\n",
       "  </tbody>\n",
       "</table>\n",
       "</div>"
      ],
      "text/plain": [
       "   churn_rate     year\n",
       "0   48.477695  2015-16\n",
       "1   79.516824  2016-17"
      ]
     },
     "execution_count": 99,
     "metadata": {},
     "output_type": "execute_result"
    }
   ],
   "source": [
    "y = pd.DataFrame()\n",
    "y['churn_rate'] = [churn_rate_2016, churn_rate_2017]\n",
    "y['year'] = ['2015-16','2016-17']\n",
    "y.head()"
   ]
  },
  {
   "cell_type": "code",
   "execution_count": 100,
   "id": "6f31a90c",
   "metadata": {},
   "outputs": [
    {
     "data": {
      "image/png": "[encoded data removed]",
      "text/plain": [
       "<Figure size 720x432 with 1 Axes>"
      ]
     },
     "metadata": {
      "needs_background": "light"
     },
     "output_type": "display_data"
    }
   ],
   "source": [
    "plt.figure(figsize = (10,6))\n",
    "plt.plot(y['year'], y['churn_rate'])\n",
    "plt.title('Churn Rate Y-o-Y Vs Year')\n",
    "plt.xlabel('Year')\n",
    "plt.ylabel('Churn Rate Y-o-Y')\n",
    "plt.show()"
   ]
  },
  {
   "cell_type": "markdown",
   "id": "625737a7",
   "metadata": {},
   "source": [
    "## The above plot shows the churn rate in 2016 and 2017. More number of customers left in 2017 than in 2016"
   ]
  }
 ],
 "metadata": {
  "kernelspec": {
   "display_name": "Python 3 (ipykernel)",
   "language": "python",
   "name": "python3"
  },
  "language_info": {
   "codemirror_mode": {
    "name": "ipython",
    "version": 3
   },
   "file_extension": ".py",
   "mimetype": "text/x-python",
   "name": "python",
   "nbconvert_exporter": "python",
   "pygments_lexer": "ipython3",
   "version": "3.9.7"
  }
 },
 "nbformat": 4,
 "nbformat_minor": 5
}
